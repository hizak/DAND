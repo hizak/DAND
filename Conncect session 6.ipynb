{
 "cells": [
  {
   "cell_type": "code",
   "execution_count": 70,
   "metadata": {
    "scrolled": true
   },
   "outputs": [
    {
     "name": "stdout",
     "output_type": "stream",
     "text": [
      "                          Amount\n",
      "Account Transaction Type        \n",
      "986     D                 1050.0\n",
      "987     D                  112.5\n",
      "        W                   19.5\n",
      "988     D                  200.0\n",
      "        W                   45.5\n",
      "----------------------------\n",
      "----------------------------\n",
      "1050.0\n",
      "12.5\n",
      "withdrawal\n",
      "----------------------------\n",
      "112.5\n",
      "7.0\n",
      "withdrawal\n",
      "----------------------------\n",
      "19.5\n",
      "200.0\n",
      "withdrawal\n",
      "----------------------------\n",
      "200.0\n",
      "100.0\n",
      "withdrawal\n",
      "----------------------------\n",
      "45.5\n",
      "1050.0\n",
      "withdrawal\n",
      "   Account Transaction Type  Amount\n",
      "0      987                D    12.5\n",
      "1      987                W     7.0\n",
      "2      988                D   200.0\n",
      "3      987                D   100.0\n",
      "4      986                D  1050.0\n",
      "5      988                W    45.5\n",
      "6      987                W    12.5\n"
     ]
    }
   ],
   "source": [
    "import pandas as pd\n",
    "\n",
    "#filename = \"C:\\Users\\Zaki\\Documents\\Data Analyst Nanodegree - Udacity\\Mod3\\Numpy and Pandas 1D Quiz\\\\nyc_subway_weather.csv\"\n",
    "#filename = \"C:\\Users\\Zaki\\Documents\\Data Analyst Nanodegree - Udacity\\Mod3\\Connect Session 6\\transactions_summary.csv\"\n",
    "filename = \"C:\\Users\\Zaki\\Documents\\\\transactions_summary.csv\"\n",
    "transaction_df = pd.read_csv(filename)\n",
    "\n",
    "def group_dw(transaction):\n",
    "    print \"----------------------------\"\n",
    "    #print transaction\n",
    "    #print transaction_df['Transaction Type']\n",
    "    #print transaction.iloc[0]\n",
    "    for i in range(len(transaction)):\n",
    "        print \"----------------------------\"\n",
    "        print transaction.iloc[i]\n",
    "        #print transaction[i]\n",
    "        if transaction.iloc[i] == 'D':\n",
    "            print transaction_df['Amount'][i]\n",
    "            print transaction_df['Account'][i]\n",
    "            print \"depositttt\"\n",
    "        else:\n",
    "            print transaction_df['Amount'][i]\n",
    "            print \"withdrawal\"\n",
    "            #print transaction_df['Amount'] - transaction_df['Amount'][i]\n",
    "\n",
    "t2 = transaction_df.groupby(['Account', 'Transaction Type']).sum()\n",
    "print t2\n",
    "t2.apply(group_dw)\n",
    "print transaction_df\n",
    "\n",
    "#t3 = transaction_df.groupby('Transaction Type')\n",
    "\n",
    "#print t3['Transaction Type']\n",
    "\n",
    "#print t2, type(t2)\n",
    "#print t2.groups\n",
    "\n"
   ]
  },
  {
   "cell_type": "code",
   "execution_count": null,
   "metadata": {
    "collapsed": true
   },
   "outputs": [],
   "source": []
  }
 ],
 "metadata": {
  "kernelspec": {
   "display_name": "Python [default]",
   "language": "python",
   "name": "python2"
  },
  "language_info": {
   "codemirror_mode": {
    "name": "ipython",
    "version": 2
   },
   "file_extension": ".py",
   "mimetype": "text/x-python",
   "name": "python",
   "nbconvert_exporter": "python",
   "pygments_lexer": "ipython2",
   "version": "2.7.13"
  }
 },
 "nbformat": 4,
 "nbformat_minor": 2
}
