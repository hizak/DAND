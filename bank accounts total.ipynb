{
 "cells": [
  {
   "cell_type": "code",
   "execution_count": 3,
   "metadata": {
    "collapsed": true
   },
   "outputs": [],
   "source": [
    "import pandas as pd"
   ]
  },
  {
   "cell_type": "code",
   "execution_count": 20,
   "metadata": {},
   "outputs": [
    {
     "name": "stdout",
     "output_type": "stream",
     "text": [
      "Account\n",
      "987      93.0\n",
      "988     154.5\n",
      "986    1050.0\n",
      "Name: Amount, dtype: float64 <class 'pandas.core.series.Series'>\n"
     ]
    }
   ],
   "source": [
    "def balance(fName):\n",
    "    trans = pd.read_csv(fName)\n",
    "    trans['Amount'] = trans.apply(lambda row: row['Amount']*-1 if row['Transaction Type'] == 'W' else row['Amount'],axis=1)\n",
    "    tmp = trans.groupby(by='Account',sort=False)['Amount'].sum()\n",
    "    #tmp = trans.groupby('Account',sort=False)['Amount'].sum()\n",
    "    print tmp, type(tmp)\n",
    "    tmp.to_csv(path='transactions_summary.csv',header=True)\n",
    "    \n",
    "    return tmp\n",
    "\n",
    "df_bank = balance('transactions.csv')"
   ]
  },
  {
   "cell_type": "code",
   "execution_count": 14,
   "metadata": {
    "scrolled": true
   },
   "outputs": [
    {
     "name": "stdout",
     "output_type": "stream",
     "text": [
      "Account\n",
      "987      93.0\n",
      "988     154.5\n",
      "986    1050.0\n",
      "Name: Amount, dtype: float64\n"
     ]
    }
   ],
   "source": [
    "print df_bank\n"
   ]
  },
  {
   "cell_type": "code",
   "execution_count": null,
   "metadata": {
    "collapsed": true
   },
   "outputs": [],
   "source": []
  },
  {
   "cell_type": "code",
   "execution_count": null,
   "metadata": {
    "collapsed": true
   },
   "outputs": [],
   "source": []
  },
  {
   "cell_type": "code",
   "execution_count": null,
   "metadata": {
    "collapsed": true
   },
   "outputs": [],
   "source": []
  }
 ],
 "metadata": {
  "kernelspec": {
   "display_name": "Python [default]",
   "language": "python",
   "name": "python2"
  },
  "language_info": {
   "codemirror_mode": {
    "name": "ipython",
    "version": 2
   },
   "file_extension": ".py",
   "mimetype": "text/x-python",
   "name": "python",
   "nbconvert_exporter": "python",
   "pygments_lexer": "ipython2",
   "version": "2.7.13"
  }
 },
 "nbformat": 4,
 "nbformat_minor": 1
}
