{
 "cells": [
  {
   "cell_type": "markdown",
   "metadata": {},
   "source": [
    "## Load Data from CSV"
   ]
  },
  {
   "cell_type": "code",
   "execution_count": 24,
   "metadata": {
    "collapsed": true
   },
   "outputs": [],
   "source": [
    "import csv\n",
    "from datetime import datetime as dt\n",
    "from collections import defaultdict\n",
    "import matplotlib.pyplot as plt\n",
    "%matplotlib inline"
   ]
  },
  {
   "cell_type": "code",
   "execution_count": 25,
   "metadata": {},
   "outputs": [
    {
     "data": {
      "text/plain": [
       "{'Customer Name': 'Jessica Myrick',\n",
       " 'Order Date': '1/1/2009',\n",
       " 'Order ID': '28774',\n",
       " 'Order Quantity': '32',\n",
       " 'Product Category': 'Office Supplies',\n",
       " 'Product Name': 'Perma STOR-ALL\\xe2\\x84\\xa2 Hanging File Box, 13 1/8\"W x 12 1/4\"D x 10 1/2\"H',\n",
       " 'Product Sub-Category': 'Storage & Organization',\n",
       " 'Sales': '191.36',\n",
       " 'Unit Price': '5.98'}"
      ]
     },
     "execution_count": 25,
     "metadata": {},
     "output_type": "execute_result"
    }
   ],
   "source": [
    "'''\n",
    "Task 1\n",
    "implement the csv_reader function\n",
    "input: CSV file name\n",
    "output: list of records. Each record should be a dictionary with keys\n",
    "representing columns names and values representing values for a record\n",
    "'''\n",
    "\n",
    "def csv_reader(filename):\n",
    "    '''insert your code here'''\n",
    "    # fName = \"\\Users\\Zaki\\Documents\\Data Analyst Nanodegree - Udacity\\Mod3\\Customer test data.txt\"\n",
    "    with open(filename, 'r') as csvfile:\n",
    "        return list(csv.DictReader(csvfile))\n",
    "        \n",
    "        for row in data:\n",
    "            print row\n",
    "        return data\n",
    "\n",
    "sales_data = csv_reader('Superstore_Sales.csv')\n",
    "sales_data[0]"
   ]
  },
  {
   "cell_type": "markdown",
   "metadata": {},
   "source": [
    "## Fixing Data Types"
   ]
  },
  {
   "cell_type": "code",
   "execution_count": 26,
   "metadata": {},
   "outputs": [
    {
     "name": "stdout",
     "output_type": "stream",
     "text": [
      "{'Order Quantity': '32', 'Product Category': 'Office Supplies', 'Sales': '191.36', 'Order Date': '1/1/2009', 'Unit Price': '5.98', 'Customer Name': 'Jessica Myrick', 'Product Name': 'Perma STOR-ALL\\xe2\\x84\\xa2 Hanging File Box, 13 1/8\"W x 12 1/4\"D x 10 1/2\"H', 'Product Sub-Category': 'Storage & Organization', 'Order ID': '28774'}\n",
      "{'Order Quantity': 32, 'Product Category': 'Office Supplies', 'Sales': 191.36, 'Order Date': datetime.datetime(2009, 1, 1, 0, 0), 'Unit Price': 5.98, 'Customer Name': 'Jessica Myrick', 'Product Name': 'Perma STOR-ALL\\xe2\\x84\\xa2 Hanging File Box, 13 1/8\"W x 12 1/4\"D x 10 1/2\"H', 'Product Sub-Category': 'Storage & Organization', 'Order ID': '28774'}\n"
     ]
    }
   ],
   "source": [
    "'''\n",
    "Task 2\n",
    "implement the parser function\n",
    "input: list of records (dataset)\n",
    "This function should fix data types for all records.\n",
    "Note that the original loaded data is string\n",
    "'''\n",
    "\n",
    "def parser(sales):\n",
    "    '''insert your code here'''\n",
    "    for record in sales:\n",
    "        #row[1] = datetime(row[1])\n",
    "        print record\n",
    "        record['Order Date'] = dt.strptime(record['Order Date'],'%m/%d/%Y')\n",
    "        record['Order Quantity'] = int(record['Order Quantity'])\n",
    "        record['Unit Price'] = float(record['Unit Price'])\n",
    "        #record['Sales'] = float(record['Sales'])\n",
    "        record['Sales'] = eval(record['Sales'])\n",
    "        \n",
    "        print record\n",
    "        break\n",
    "        \n",
    "        #row[1] = datetime(row[1])\n",
    "        #print sales\n",
    "\n",
    "parser(sales_data)"
   ]
  },
  {
   "cell_type": "markdown",
   "metadata": {},
   "source": [
    "## Problems in Data"
   ]
  },
  {
   "cell_type": "code",
   "execution_count": 35,
   "metadata": {},
   "outputs": [
    {
     "ename": "TypeError",
     "evalue": "list indices must be integers, not str",
     "output_type": "error",
     "traceback": [
      "\u001b[1;31m---------------------------------------------------------------------------\u001b[0m",
      "\u001b[1;31mTypeError\u001b[0m                                 Traceback (most recent call last)",
      "\u001b[1;32m<ipython-input-35-23858fd5c9fa>\u001b[0m in \u001b[0;36m<module>\u001b[1;34m()\u001b[0m\n\u001b[0;32m     14\u001b[0m \u001b[1;32mfor\u001b[0m \u001b[0mitem\u001b[0m \u001b[1;32min\u001b[0m \u001b[0mtest\u001b[0m\u001b[1;33m:\u001b[0m\u001b[1;33m\u001b[0m\u001b[0m\n\u001b[0;32m     15\u001b[0m     \u001b[1;32mif\u001b[0m \u001b[0mlen\u001b[0m\u001b[1;33m(\u001b[0m\u001b[0mtest\u001b[0m\u001b[1;33m[\u001b[0m\u001b[0mitem\u001b[0m\u001b[1;33m]\u001b[0m\u001b[1;33m)\u001b[0m \u001b[1;33m>\u001b[0m \u001b[1;36m1\u001b[0m\u001b[1;33m:\u001b[0m\u001b[1;33m\u001b[0m\u001b[0m\n\u001b[1;32m---> 16\u001b[1;33m         \u001b[0mmistakes\u001b[0m\u001b[1;33m[\u001b[0m\u001b[0mitem\u001b[0m\u001b[1;33m]\u001b[0m \u001b[1;33m=\u001b[0m \u001b[0mmax\u001b[0m\u001b[1;33m(\u001b[0m\u001b[0mtest\u001b[0m\u001b[1;33m[\u001b[0m\u001b[0mitem\u001b[0m\u001b[1;33m]\u001b[0m\u001b[1;33m)\u001b[0m\u001b[1;33m\u001b[0m\u001b[0m\n\u001b[0m\u001b[0;32m     17\u001b[0m     \u001b[1;31m#break\u001b[0m\u001b[1;33m\u001b[0m\u001b[1;33m\u001b[0m\u001b[0m\n",
      "\u001b[1;31mTypeError\u001b[0m: list indices must be integers, not str"
     ]
    }
   ],
   "source": [
    "'''\n",
    "Task 3\n",
    "The store owner complains about some errors in the sales.\n",
    "He believes that the products prices are inconsistent in the system.\n",
    "Where you able to find any mistakes in the sales?\n",
    "'''\n",
    "test = defaultdict(list)\n",
    "mistakes = []\n",
    "for record in sales_data:\n",
    "    PName = record['Product Name']\n",
    "    if record['Unit Price'] not in test[PName]:\n",
    "        test[PName].append(record['Unit Price'])\n",
    "\n",
    "for item in test:\n",
    "    if len(test[item]) > 1:\n",
    "        mistakes[item] = max(test[item])\n",
    "    #break\n"
   ]
  },
  {
   "cell_type": "code",
   "execution_count": 36,
   "metadata": {
    "collapsed": true
   },
   "outputs": [],
   "source": [
    "for record in sales_data:\n",
    "    if record['Product Name'] in mistakes:\n",
    "        record['Unit Price'] = mistakes[record['Product Name']]\n",
    "        \n"
   ]
  },
  {
   "cell_type": "code",
   "execution_count": null,
   "metadata": {},
   "outputs": [],
   "source": [
    "'''\n",
    "Here we calculate the sum of sales for each product category\n",
    "items_sales is a disctionary where keys represent different categories\n",
    "and values represent the corresponding total sales\n",
    "'''\n",
    "items_sales = defaultdict(int)\n",
    "for record in sales_data:\n",
    "    item = record['Product Category']\n",
    "    sales = record['Sales']\n",
    "    items_sales[item]+=sales"
   ]
  },
  {
   "cell_type": "code",
   "execution_count": null,
   "metadata": {},
   "outputs": [],
   "source": [
    "'''\n",
    "Here we plot the sales data corresponding to each product category\n",
    "'''\n",
    "labels,y = items_sales.keys(),items_sales.values()\n",
    "x = range(len(labels))\n",
    "plt.bar(x, y, align='center')\n",
    "plt.xticks(x, labels)\n",
    "plt.show()"
   ]
  }
 ],
 "metadata": {
  "kernelspec": {
   "display_name": "Python [default]",
   "language": "python",
   "name": "python2"
  },
  "language_info": {
   "codemirror_mode": {
    "name": "ipython",
    "version": 2
   },
   "file_extension": ".py",
   "mimetype": "text/x-python",
   "name": "python",
   "nbconvert_exporter": "python",
   "pygments_lexer": "ipython2",
   "version": "2.7.13"
  }
 },
 "nbformat": 4,
 "nbformat_minor": 1
}
